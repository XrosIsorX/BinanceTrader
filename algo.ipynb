{
 "cells": [
  {
   "cell_type": "code",
   "execution_count": 1,
   "metadata": {},
   "outputs": [],
   "source": [
    "%load_ext autoreload\n",
    "%autoreload 2\n",
    "%reload_ext autoreload"
   ]
  },
  {
   "cell_type": "code",
   "execution_count": 12,
   "metadata": {},
   "outputs": [],
   "source": [
    "from datetime import datetime\n",
    "\n",
    "import pandas as pd\n",
    "import numpy as np\n",
    "import matplotlib.pyplot as plt\n",
    "\n",
    "import config\n",
    "\n",
    "from utils import DataReader, Validator\n",
    "from tree import Helper as TreeHelper"
   ]
  },
  {
   "cell_type": "markdown",
   "metadata": {},
   "source": [
    "# Load data"
   ]
  },
  {
   "cell_type": "code",
   "execution_count": 4,
   "metadata": {},
   "outputs": [
    {
     "data": {
      "text/html": [
       "<div>\n",
       "<style scoped>\n",
       "    .dataframe tbody tr th:only-of-type {\n",
       "        vertical-align: middle;\n",
       "    }\n",
       "\n",
       "    .dataframe tbody tr th {\n",
       "        vertical-align: top;\n",
       "    }\n",
       "\n",
       "    .dataframe thead th {\n",
       "        text-align: right;\n",
       "    }\n",
       "</style>\n",
       "<table border=\"1\" class=\"dataframe\">\n",
       "  <thead>\n",
       "    <tr style=\"text-align: right;\">\n",
       "      <th></th>\n",
       "      <th>id</th>\n",
       "      <th>price</th>\n",
       "      <th>qty</th>\n",
       "      <th>quoteQty</th>\n",
       "      <th>isBuyerMaker</th>\n",
       "    </tr>\n",
       "    <tr>\n",
       "      <th>time</th>\n",
       "      <th></th>\n",
       "      <th></th>\n",
       "      <th></th>\n",
       "      <th></th>\n",
       "      <th></th>\n",
       "    </tr>\n",
       "  </thead>\n",
       "  <tbody>\n",
       "    <tr>\n",
       "      <th>2021-04-17 11:07:04.135</th>\n",
       "      <td>171131000</td>\n",
       "      <td>0.308076</td>\n",
       "      <td>30.0</td>\n",
       "      <td>9.242280</td>\n",
       "      <td>False</td>\n",
       "    </tr>\n",
       "    <tr>\n",
       "      <th>2021-04-17 11:07:04.145</th>\n",
       "      <td>171131001</td>\n",
       "      <td>0.308060</td>\n",
       "      <td>480.0</td>\n",
       "      <td>147.868800</td>\n",
       "      <td>True</td>\n",
       "    </tr>\n",
       "    <tr>\n",
       "      <th>2021-04-17 11:07:04.145</th>\n",
       "      <td>171131002</td>\n",
       "      <td>0.308059</td>\n",
       "      <td>438.0</td>\n",
       "      <td>134.929842</td>\n",
       "      <td>True</td>\n",
       "    </tr>\n",
       "    <tr>\n",
       "      <th>2021-04-17 11:07:04.145</th>\n",
       "      <td>171131003</td>\n",
       "      <td>0.307953</td>\n",
       "      <td>19709.0</td>\n",
       "      <td>6069.445677</td>\n",
       "      <td>True</td>\n",
       "    </tr>\n",
       "    <tr>\n",
       "      <th>2021-04-17 11:07:04.145</th>\n",
       "      <td>171131004</td>\n",
       "      <td>0.307952</td>\n",
       "      <td>20.0</td>\n",
       "      <td>6.159040</td>\n",
       "      <td>True</td>\n",
       "    </tr>\n",
       "    <tr>\n",
       "      <th>...</th>\n",
       "      <td>...</td>\n",
       "      <td>...</td>\n",
       "      <td>...</td>\n",
       "      <td>...</td>\n",
       "      <td>...</td>\n",
       "    </tr>\n",
       "    <tr>\n",
       "      <th>2021-05-09 17:27:57.481</th>\n",
       "      <td>365633995</td>\n",
       "      <td>0.474102</td>\n",
       "      <td>16000.0</td>\n",
       "      <td>7585.632000</td>\n",
       "      <td>False</td>\n",
       "    </tr>\n",
       "    <tr>\n",
       "      <th>2021-05-09 17:27:57.481</th>\n",
       "      <td>365633996</td>\n",
       "      <td>0.474109</td>\n",
       "      <td>240.0</td>\n",
       "      <td>113.786160</td>\n",
       "      <td>False</td>\n",
       "    </tr>\n",
       "    <tr>\n",
       "      <th>2021-05-09 17:27:57.481</th>\n",
       "      <td>365633997</td>\n",
       "      <td>0.474120</td>\n",
       "      <td>26.0</td>\n",
       "      <td>12.327120</td>\n",
       "      <td>False</td>\n",
       "    </tr>\n",
       "    <tr>\n",
       "      <th>2021-05-09 17:27:57.481</th>\n",
       "      <td>365633998</td>\n",
       "      <td>0.474121</td>\n",
       "      <td>13333.0</td>\n",
       "      <td>6321.455293</td>\n",
       "      <td>False</td>\n",
       "    </tr>\n",
       "    <tr>\n",
       "      <th>2021-05-09 17:27:57.490</th>\n",
       "      <td>365633999</td>\n",
       "      <td>0.474065</td>\n",
       "      <td>17.0</td>\n",
       "      <td>8.059105</td>\n",
       "      <td>True</td>\n",
       "    </tr>\n",
       "  </tbody>\n",
       "</table>\n",
       "<p>8816600 rows × 5 columns</p>\n",
       "</div>"
      ],
      "text/plain": [
       "                                id     price      qty     quoteQty  \\\n",
       "time                                                                 \n",
       "2021-04-17 11:07:04.135  171131000  0.308076     30.0     9.242280   \n",
       "2021-04-17 11:07:04.145  171131001  0.308060    480.0   147.868800   \n",
       "2021-04-17 11:07:04.145  171131002  0.308059    438.0   134.929842   \n",
       "2021-04-17 11:07:04.145  171131003  0.307953  19709.0  6069.445677   \n",
       "2021-04-17 11:07:04.145  171131004  0.307952     20.0     6.159040   \n",
       "...                            ...       ...      ...          ...   \n",
       "2021-05-09 17:27:57.481  365633995  0.474102  16000.0  7585.632000   \n",
       "2021-05-09 17:27:57.481  365633996  0.474109    240.0   113.786160   \n",
       "2021-05-09 17:27:57.481  365633997  0.474120     26.0    12.327120   \n",
       "2021-05-09 17:27:57.481  365633998  0.474121  13333.0  6321.455293   \n",
       "2021-05-09 17:27:57.490  365633999  0.474065     17.0     8.059105   \n",
       "\n",
       "                         isBuyerMaker  \n",
       "time                                   \n",
       "2021-04-17 11:07:04.135         False  \n",
       "2021-04-17 11:07:04.145          True  \n",
       "2021-04-17 11:07:04.145          True  \n",
       "2021-04-17 11:07:04.145          True  \n",
       "2021-04-17 11:07:04.145          True  \n",
       "...                               ...  \n",
       "2021-05-09 17:27:57.481         False  \n",
       "2021-05-09 17:27:57.481         False  \n",
       "2021-05-09 17:27:57.481         False  \n",
       "2021-05-09 17:27:57.481         False  \n",
       "2021-05-09 17:27:57.490          True  \n",
       "\n",
       "[8816600 rows x 5 columns]"
      ]
     },
     "execution_count": 4,
     "metadata": {},
     "output_type": "execute_result"
    }
   ],
   "source": [
    "df = DataReader.read_trade_from_directory(f\"{config.trade_logs_id_binance_data_dir}DOGEUSDT/\")\n",
    "df"
   ]
  },
  {
   "cell_type": "markdown",
   "metadata": {},
   "source": [
    "# ARIMA"
   ]
  },
  {
   "cell_type": "code",
   "execution_count": 16,
   "metadata": {},
   "outputs": [],
   "source": [
    "from statsmodels.tsa.arima.model import ARIMA\n",
    "from timeseries import Var"
   ]
  },
  {
   "cell_type": "code",
   "execution_count": 11,
   "metadata": {},
   "outputs": [],
   "source": [
    "train_df = df[ df[\"id\"] < 300000000].groupby(pd.Grouper(freq=\"1s\")).last()\n",
    "test_df = df[ df[\"id\"] >= 300000000].groupby(pd.Grouper(freq=\"1s\")).last()"
   ]
  },
  {
   "cell_type": "code",
   "execution_count": 12,
   "metadata": {},
   "outputs": [],
   "source": [
    "model = ARIMA(train_df[\"price\"], order=(5,1,0))\n",
    "model_fit = model.fit()"
   ]
  },
  {
   "cell_type": "code",
   "execution_count": 14,
   "metadata": {
    "scrolled": true
   },
   "outputs": [
    {
     "ename": "TypeError",
     "evalue": "Cannot convert input [                            id     price     qty     quoteQty  isBuyerMaker\ntime                                                                       \n2021-05-09 17:00:48  364797039  0.492767  2108.0  1038.752836         False\n2021-05-09 17:00:49  364797416  0.492652  1115.0   549.306980          True\n2021-05-09 17:00:50  364797653  0.492550   198.0    97.524900         False\n2021-05-09 17:00:51  364797915  0.492097    81.0    39.859857         False\n2021-05-09 17:00:52  364798135  0.492009  1054.0   518.577486          True\n...                        ...       ...     ...          ...           ...\n2021-05-09 17:27:53  365632792  0.472868   632.0   298.852576          True\n2021-05-09 17:27:54  365633049  0.473796   215.0   101.866140          True\n2021-05-09 17:27:55  365633578  0.474177    43.0    20.389611          True\n2021-05-09 17:27:56  365633940  0.473853    33.0    15.637149         False\n2021-05-09 17:27:57  365633999  0.474065    17.0     8.059105          True\n\n[1630 rows x 5 columns]] of type <class 'pandas.core.frame.DataFrame'> to Timestamp",
     "output_type": "error",
     "traceback": [
      "\u001b[1;31m---------------------------------------------------------------------------\u001b[0m",
      "\u001b[1;31mTypeError\u001b[0m                                 Traceback (most recent call last)",
      "\u001b[1;32m<ipython-input-14-db5c4a385493>\u001b[0m in \u001b[0;36m<module>\u001b[1;34m\u001b[0m\n\u001b[1;32m----> 1\u001b[1;33m \u001b[0mmodel_fit\u001b[0m\u001b[1;33m.\u001b[0m\u001b[0mpredict\u001b[0m\u001b[1;33m(\u001b[0m\u001b[0mtest_df\u001b[0m\u001b[1;33m)\u001b[0m\u001b[1;33m\u001b[0m\u001b[1;33m\u001b[0m\u001b[0m\n\u001b[0m",
      "\u001b[1;32m~\\anaconda3\\envs\\binance\\lib\\site-packages\\statsmodels\\base\\wrapper.py\u001b[0m in \u001b[0;36mwrapper\u001b[1;34m(self, *args, **kwargs)\u001b[0m\n\u001b[0;32m    111\u001b[0m             \u001b[0mobj\u001b[0m \u001b[1;33m=\u001b[0m \u001b[0mdata\u001b[0m\u001b[1;33m.\u001b[0m\u001b[0mwrap_output\u001b[0m\u001b[1;33m(\u001b[0m\u001b[0mfunc\u001b[0m\u001b[1;33m(\u001b[0m\u001b[0mresults\u001b[0m\u001b[1;33m,\u001b[0m \u001b[1;33m*\u001b[0m\u001b[0margs\u001b[0m\u001b[1;33m,\u001b[0m \u001b[1;33m**\u001b[0m\u001b[0mkwargs\u001b[0m\u001b[1;33m)\u001b[0m\u001b[1;33m,\u001b[0m \u001b[0mhow\u001b[0m\u001b[1;33m[\u001b[0m\u001b[1;36m0\u001b[0m\u001b[1;33m]\u001b[0m\u001b[1;33m,\u001b[0m \u001b[0mhow\u001b[0m\u001b[1;33m[\u001b[0m\u001b[1;36m1\u001b[0m\u001b[1;33m:\u001b[0m\u001b[1;33m]\u001b[0m\u001b[1;33m)\u001b[0m\u001b[1;33m\u001b[0m\u001b[1;33m\u001b[0m\u001b[0m\n\u001b[0;32m    112\u001b[0m         \u001b[1;32melif\u001b[0m \u001b[0mhow\u001b[0m\u001b[1;33m:\u001b[0m\u001b[1;33m\u001b[0m\u001b[1;33m\u001b[0m\u001b[0m\n\u001b[1;32m--> 113\u001b[1;33m             \u001b[0mobj\u001b[0m \u001b[1;33m=\u001b[0m \u001b[0mdata\u001b[0m\u001b[1;33m.\u001b[0m\u001b[0mwrap_output\u001b[0m\u001b[1;33m(\u001b[0m\u001b[0mfunc\u001b[0m\u001b[1;33m(\u001b[0m\u001b[0mresults\u001b[0m\u001b[1;33m,\u001b[0m \u001b[1;33m*\u001b[0m\u001b[0margs\u001b[0m\u001b[1;33m,\u001b[0m \u001b[1;33m**\u001b[0m\u001b[0mkwargs\u001b[0m\u001b[1;33m)\u001b[0m\u001b[1;33m,\u001b[0m \u001b[0mhow\u001b[0m\u001b[1;33m)\u001b[0m\u001b[1;33m\u001b[0m\u001b[1;33m\u001b[0m\u001b[0m\n\u001b[0m\u001b[0;32m    114\u001b[0m         \u001b[1;32mreturn\u001b[0m \u001b[0mobj\u001b[0m\u001b[1;33m\u001b[0m\u001b[1;33m\u001b[0m\u001b[0m\n\u001b[0;32m    115\u001b[0m \u001b[1;33m\u001b[0m\u001b[0m\n",
      "\u001b[1;32m~\\anaconda3\\envs\\binance\\lib\\site-packages\\statsmodels\\tsa\\statespace\\mlemodel.py\u001b[0m in \u001b[0;36mpredict\u001b[1;34m(self, start, end, dynamic, **kwargs)\u001b[0m\n\u001b[0;32m   3386\u001b[0m         \"\"\"\n\u001b[0;32m   3387\u001b[0m         \u001b[1;31m# Perform the prediction\u001b[0m\u001b[1;33m\u001b[0m\u001b[1;33m\u001b[0m\u001b[1;33m\u001b[0m\u001b[0m\n\u001b[1;32m-> 3388\u001b[1;33m         \u001b[0mprediction_results\u001b[0m \u001b[1;33m=\u001b[0m \u001b[0mself\u001b[0m\u001b[1;33m.\u001b[0m\u001b[0mget_prediction\u001b[0m\u001b[1;33m(\u001b[0m\u001b[0mstart\u001b[0m\u001b[1;33m,\u001b[0m \u001b[0mend\u001b[0m\u001b[1;33m,\u001b[0m \u001b[0mdynamic\u001b[0m\u001b[1;33m,\u001b[0m \u001b[1;33m**\u001b[0m\u001b[0mkwargs\u001b[0m\u001b[1;33m)\u001b[0m\u001b[1;33m\u001b[0m\u001b[1;33m\u001b[0m\u001b[0m\n\u001b[0m\u001b[0;32m   3389\u001b[0m         \u001b[1;32mreturn\u001b[0m \u001b[0mprediction_results\u001b[0m\u001b[1;33m.\u001b[0m\u001b[0mpredicted_mean\u001b[0m\u001b[1;33m\u001b[0m\u001b[1;33m\u001b[0m\u001b[0m\n\u001b[0;32m   3390\u001b[0m \u001b[1;33m\u001b[0m\u001b[0m\n",
      "\u001b[1;32m~\\anaconda3\\envs\\binance\\lib\\site-packages\\statsmodels\\tsa\\statespace\\mlemodel.py\u001b[0m in \u001b[0;36mget_prediction\u001b[1;34m(self, start, end, dynamic, index, exog, extend_model, extend_kwargs, **kwargs)\u001b[0m\n\u001b[0;32m   3284\u001b[0m         \u001b[1;31m# Handle start, end, dynamic\u001b[0m\u001b[1;33m\u001b[0m\u001b[1;33m\u001b[0m\u001b[1;33m\u001b[0m\u001b[0m\n\u001b[0;32m   3285\u001b[0m         start, end, out_of_sample, prediction_index = (\n\u001b[1;32m-> 3286\u001b[1;33m             self.model._get_prediction_index(start, end, index))\n\u001b[0m\u001b[0;32m   3287\u001b[0m \u001b[1;33m\u001b[0m\u001b[0m\n\u001b[0;32m   3288\u001b[0m         \u001b[1;31m# Handle `dynamic`\u001b[0m\u001b[1;33m\u001b[0m\u001b[1;33m\u001b[0m\u001b[1;33m\u001b[0m\u001b[0m\n",
      "\u001b[1;32m~\\anaconda3\\envs\\binance\\lib\\site-packages\\statsmodels\\tsa\\base\\tsa_model.py\u001b[0m in \u001b[0;36m_get_prediction_index\u001b[1;34m(self, start, end, index, silent)\u001b[0m\n\u001b[0;32m    736\u001b[0m         \"\"\"\n\u001b[0;32m    737\u001b[0m         \u001b[0mnobs\u001b[0m \u001b[1;33m=\u001b[0m \u001b[0mlen\u001b[0m\u001b[1;33m(\u001b[0m\u001b[0mself\u001b[0m\u001b[1;33m.\u001b[0m\u001b[0mendog\u001b[0m\u001b[1;33m)\u001b[0m\u001b[1;33m\u001b[0m\u001b[1;33m\u001b[0m\u001b[0m\n\u001b[1;32m--> 738\u001b[1;33m         return get_prediction_index(start,\n\u001b[0m\u001b[0;32m    739\u001b[0m                                     \u001b[0mend\u001b[0m\u001b[1;33m,\u001b[0m\u001b[1;33m\u001b[0m\u001b[1;33m\u001b[0m\u001b[0m\n\u001b[0;32m    740\u001b[0m                                     \u001b[0mnobs\u001b[0m\u001b[1;33m,\u001b[0m\u001b[1;33m\u001b[0m\u001b[1;33m\u001b[0m\u001b[0m\n",
      "\u001b[1;32m~\\anaconda3\\envs\\binance\\lib\\site-packages\\statsmodels\\tsa\\base\\tsa_model.py\u001b[0m in \u001b[0;36mget_prediction_index\u001b[1;34m(start, end, nobs, base_index, index, silent, index_none, index_generated, data)\u001b[0m\n\u001b[0;32m    322\u001b[0m     \u001b[1;31m# indexes.\u001b[0m\u001b[1;33m\u001b[0m\u001b[1;33m\u001b[0m\u001b[1;33m\u001b[0m\u001b[0m\n\u001b[0;32m    323\u001b[0m     \u001b[1;32mtry\u001b[0m\u001b[1;33m:\u001b[0m\u001b[1;33m\u001b[0m\u001b[1;33m\u001b[0m\u001b[0m\n\u001b[1;32m--> 324\u001b[1;33m         \u001b[0mstart\u001b[0m\u001b[1;33m,\u001b[0m \u001b[0m_\u001b[0m\u001b[1;33m,\u001b[0m \u001b[0mstart_oos\u001b[0m \u001b[1;33m=\u001b[0m \u001b[0mget_index_label_loc\u001b[0m\u001b[1;33m(\u001b[0m\u001b[0mstart\u001b[0m\u001b[1;33m,\u001b[0m \u001b[0mbase_index\u001b[0m\u001b[1;33m,\u001b[0m \u001b[0mdata\u001b[0m\u001b[1;33m.\u001b[0m\u001b[0mrow_labels\u001b[0m\u001b[1;33m)\u001b[0m\u001b[1;33m\u001b[0m\u001b[1;33m\u001b[0m\u001b[0m\n\u001b[0m\u001b[0;32m    325\u001b[0m     \u001b[1;32mexcept\u001b[0m \u001b[0mKeyError\u001b[0m\u001b[1;33m:\u001b[0m\u001b[1;33m\u001b[0m\u001b[1;33m\u001b[0m\u001b[0m\n\u001b[0;32m    326\u001b[0m         raise KeyError('The `start` argument could not be matched to a'\n",
      "\u001b[1;32m~\\anaconda3\\envs\\binance\\lib\\site-packages\\statsmodels\\tsa\\base\\tsa_model.py\u001b[0m in \u001b[0;36mget_index_label_loc\u001b[1;34m(key, index, row_labels)\u001b[0m\n\u001b[0;32m    218\u001b[0m     \"\"\"\n\u001b[0;32m    219\u001b[0m     \u001b[1;32mtry\u001b[0m\u001b[1;33m:\u001b[0m\u001b[1;33m\u001b[0m\u001b[1;33m\u001b[0m\u001b[0m\n\u001b[1;32m--> 220\u001b[1;33m         \u001b[0mloc\u001b[0m\u001b[1;33m,\u001b[0m \u001b[0mindex\u001b[0m\u001b[1;33m,\u001b[0m \u001b[0mindex_was_expanded\u001b[0m \u001b[1;33m=\u001b[0m \u001b[0mget_index_loc\u001b[0m\u001b[1;33m(\u001b[0m\u001b[0mkey\u001b[0m\u001b[1;33m,\u001b[0m \u001b[0mindex\u001b[0m\u001b[1;33m)\u001b[0m\u001b[1;33m\u001b[0m\u001b[1;33m\u001b[0m\u001b[0m\n\u001b[0m\u001b[0;32m    221\u001b[0m     \u001b[1;32mexcept\u001b[0m \u001b[0mKeyError\u001b[0m \u001b[1;32mas\u001b[0m \u001b[0me\u001b[0m\u001b[1;33m:\u001b[0m\u001b[1;33m\u001b[0m\u001b[1;33m\u001b[0m\u001b[0m\n\u001b[0;32m    222\u001b[0m         \u001b[1;32mtry\u001b[0m\u001b[1;33m:\u001b[0m\u001b[1;33m\u001b[0m\u001b[1;33m\u001b[0m\u001b[0m\n",
      "\u001b[1;32m~\\anaconda3\\envs\\binance\\lib\\site-packages\\statsmodels\\tsa\\base\\tsa_model.py\u001b[0m in \u001b[0;36mget_index_loc\u001b[1;34m(key, index)\u001b[0m\n\u001b[0;32m    130\u001b[0m                 \u001b[0mdate_key\u001b[0m \u001b[1;33m=\u001b[0m \u001b[0mPeriod\u001b[0m\u001b[1;33m(\u001b[0m\u001b[0mkey\u001b[0m\u001b[1;33m,\u001b[0m \u001b[0mfreq\u001b[0m\u001b[1;33m=\u001b[0m\u001b[0mbase_index\u001b[0m\u001b[1;33m.\u001b[0m\u001b[0mfreq\u001b[0m\u001b[1;33m)\u001b[0m\u001b[1;33m\u001b[0m\u001b[1;33m\u001b[0m\u001b[0m\n\u001b[0;32m    131\u001b[0m             \u001b[1;32melse\u001b[0m\u001b[1;33m:\u001b[0m\u001b[1;33m\u001b[0m\u001b[1;33m\u001b[0m\u001b[0m\n\u001b[1;32m--> 132\u001b[1;33m                 \u001b[0mdate_key\u001b[0m \u001b[1;33m=\u001b[0m \u001b[0mTimestamp\u001b[0m\u001b[1;33m(\u001b[0m\u001b[0mkey\u001b[0m\u001b[1;33m,\u001b[0m \u001b[0mfreq\u001b[0m\u001b[1;33m=\u001b[0m\u001b[0mbase_index\u001b[0m\u001b[1;33m.\u001b[0m\u001b[0mfreq\u001b[0m\u001b[1;33m)\u001b[0m\u001b[1;33m\u001b[0m\u001b[1;33m\u001b[0m\u001b[0m\n\u001b[0m\u001b[0;32m    133\u001b[0m \u001b[1;33m\u001b[0m\u001b[0m\n\u001b[0;32m    134\u001b[0m             \u001b[1;31m# Out-of-sample\u001b[0m\u001b[1;33m\u001b[0m\u001b[1;33m\u001b[0m\u001b[1;33m\u001b[0m\u001b[0m\n",
      "\u001b[1;32mpandas\\_libs\\tslibs\\timestamps.pyx\u001b[0m in \u001b[0;36mpandas._libs.tslibs.timestamps.Timestamp.__new__\u001b[1;34m()\u001b[0m\n",
      "\u001b[1;32mpandas\\_libs\\tslibs\\conversion.pyx\u001b[0m in \u001b[0;36mpandas._libs.tslibs.conversion.convert_to_tsobject\u001b[1;34m()\u001b[0m\n",
      "\u001b[1;31mTypeError\u001b[0m: Cannot convert input [                            id     price     qty     quoteQty  isBuyerMaker\ntime                                                                       \n2021-05-09 17:00:48  364797039  0.492767  2108.0  1038.752836         False\n2021-05-09 17:00:49  364797416  0.492652  1115.0   549.306980          True\n2021-05-09 17:00:50  364797653  0.492550   198.0    97.524900         False\n2021-05-09 17:00:51  364797915  0.492097    81.0    39.859857         False\n2021-05-09 17:00:52  364798135  0.492009  1054.0   518.577486          True\n...                        ...       ...     ...          ...           ...\n2021-05-09 17:27:53  365632792  0.472868   632.0   298.852576          True\n2021-05-09 17:27:54  365633049  0.473796   215.0   101.866140          True\n2021-05-09 17:27:55  365633578  0.474177    43.0    20.389611          True\n2021-05-09 17:27:56  365633940  0.473853    33.0    15.637149         False\n2021-05-09 17:27:57  365633999  0.474065    17.0     8.059105          True\n\n[1630 rows x 5 columns]] of type <class 'pandas.core.frame.DataFrame'> to Timestamp"
     ]
    }
   ],
   "source": [
    "model_fit.predict(test_df)"
   ]
  },
  {
   "cell_type": "markdown",
   "metadata": {},
   "source": [
    "# Decision tree"
   ]
  },
  {
   "cell_type": "code",
   "execution_count": 32,
   "metadata": {},
   "outputs": [],
   "source": [
    "from sklearn.tree import DecisionTreeRegressor, DecisionTreeClassifier, plot_tree"
   ]
  },
  {
   "cell_type": "code",
   "execution_count": 33,
   "metadata": {},
   "outputs": [],
   "source": [
    "n_look_back = 5\n",
    "skip_look_back = 5\n",
    "skip_look_forword = 10"
   ]
  },
  {
   "cell_type": "code",
   "execution_count": 34,
   "metadata": {},
   "outputs": [
    {
     "data": {
      "text/html": [
       "<div>\n",
       "<style scoped>\n",
       "    .dataframe tbody tr th:only-of-type {\n",
       "        vertical-align: middle;\n",
       "    }\n",
       "\n",
       "    .dataframe tbody tr th {\n",
       "        vertical-align: top;\n",
       "    }\n",
       "\n",
       "    .dataframe thead th {\n",
       "        text-align: right;\n",
       "    }\n",
       "</style>\n",
       "<table border=\"1\" class=\"dataframe\">\n",
       "  <thead>\n",
       "    <tr style=\"text-align: right;\">\n",
       "      <th></th>\n",
       "      <th>id</th>\n",
       "      <th>price</th>\n",
       "      <th>qty</th>\n",
       "      <th>quoteQty</th>\n",
       "      <th>isBuyerMaker</th>\n",
       "    </tr>\n",
       "    <tr>\n",
       "      <th>time</th>\n",
       "      <th></th>\n",
       "      <th></th>\n",
       "      <th></th>\n",
       "      <th></th>\n",
       "      <th></th>\n",
       "    </tr>\n",
       "  </thead>\n",
       "  <tbody>\n",
       "    <tr>\n",
       "      <th>2021-04-17 11:07:04.135</th>\n",
       "      <td>171131000</td>\n",
       "      <td>0.308076</td>\n",
       "      <td>30.0</td>\n",
       "      <td>9.242280</td>\n",
       "      <td>False</td>\n",
       "    </tr>\n",
       "    <tr>\n",
       "      <th>2021-04-17 11:07:04.145</th>\n",
       "      <td>171131001</td>\n",
       "      <td>0.308060</td>\n",
       "      <td>480.0</td>\n",
       "      <td>147.868800</td>\n",
       "      <td>True</td>\n",
       "    </tr>\n",
       "    <tr>\n",
       "      <th>2021-04-17 11:07:04.145</th>\n",
       "      <td>171131002</td>\n",
       "      <td>0.308059</td>\n",
       "      <td>438.0</td>\n",
       "      <td>134.929842</td>\n",
       "      <td>True</td>\n",
       "    </tr>\n",
       "    <tr>\n",
       "      <th>2021-04-17 11:07:04.145</th>\n",
       "      <td>171131003</td>\n",
       "      <td>0.307953</td>\n",
       "      <td>19709.0</td>\n",
       "      <td>6069.445677</td>\n",
       "      <td>True</td>\n",
       "    </tr>\n",
       "    <tr>\n",
       "      <th>2021-04-17 11:07:04.145</th>\n",
       "      <td>171131004</td>\n",
       "      <td>0.307952</td>\n",
       "      <td>20.0</td>\n",
       "      <td>6.159040</td>\n",
       "      <td>True</td>\n",
       "    </tr>\n",
       "    <tr>\n",
       "      <th>...</th>\n",
       "      <td>...</td>\n",
       "      <td>...</td>\n",
       "      <td>...</td>\n",
       "      <td>...</td>\n",
       "      <td>...</td>\n",
       "    </tr>\n",
       "    <tr>\n",
       "      <th>2021-05-09 17:27:57.481</th>\n",
       "      <td>365633995</td>\n",
       "      <td>0.474102</td>\n",
       "      <td>16000.0</td>\n",
       "      <td>7585.632000</td>\n",
       "      <td>False</td>\n",
       "    </tr>\n",
       "    <tr>\n",
       "      <th>2021-05-09 17:27:57.481</th>\n",
       "      <td>365633996</td>\n",
       "      <td>0.474109</td>\n",
       "      <td>240.0</td>\n",
       "      <td>113.786160</td>\n",
       "      <td>False</td>\n",
       "    </tr>\n",
       "    <tr>\n",
       "      <th>2021-05-09 17:27:57.481</th>\n",
       "      <td>365633997</td>\n",
       "      <td>0.474120</td>\n",
       "      <td>26.0</td>\n",
       "      <td>12.327120</td>\n",
       "      <td>False</td>\n",
       "    </tr>\n",
       "    <tr>\n",
       "      <th>2021-05-09 17:27:57.481</th>\n",
       "      <td>365633998</td>\n",
       "      <td>0.474121</td>\n",
       "      <td>13333.0</td>\n",
       "      <td>6321.455293</td>\n",
       "      <td>False</td>\n",
       "    </tr>\n",
       "    <tr>\n",
       "      <th>2021-05-09 17:27:57.490</th>\n",
       "      <td>365633999</td>\n",
       "      <td>0.474065</td>\n",
       "      <td>17.0</td>\n",
       "      <td>8.059105</td>\n",
       "      <td>True</td>\n",
       "    </tr>\n",
       "  </tbody>\n",
       "</table>\n",
       "<p>8816600 rows × 5 columns</p>\n",
       "</div>"
      ],
      "text/plain": [
       "                                id     price      qty     quoteQty  \\\n",
       "time                                                                 \n",
       "2021-04-17 11:07:04.135  171131000  0.308076     30.0     9.242280   \n",
       "2021-04-17 11:07:04.145  171131001  0.308060    480.0   147.868800   \n",
       "2021-04-17 11:07:04.145  171131002  0.308059    438.0   134.929842   \n",
       "2021-04-17 11:07:04.145  171131003  0.307953  19709.0  6069.445677   \n",
       "2021-04-17 11:07:04.145  171131004  0.307952     20.0     6.159040   \n",
       "...                            ...       ...      ...          ...   \n",
       "2021-05-09 17:27:57.481  365633995  0.474102  16000.0  7585.632000   \n",
       "2021-05-09 17:27:57.481  365633996  0.474109    240.0   113.786160   \n",
       "2021-05-09 17:27:57.481  365633997  0.474120     26.0    12.327120   \n",
       "2021-05-09 17:27:57.481  365633998  0.474121  13333.0  6321.455293   \n",
       "2021-05-09 17:27:57.490  365633999  0.474065     17.0     8.059105   \n",
       "\n",
       "                         isBuyerMaker  \n",
       "time                                   \n",
       "2021-04-17 11:07:04.135         False  \n",
       "2021-04-17 11:07:04.145          True  \n",
       "2021-04-17 11:07:04.145          True  \n",
       "2021-04-17 11:07:04.145          True  \n",
       "2021-04-17 11:07:04.145          True  \n",
       "...                               ...  \n",
       "2021-05-09 17:27:57.481         False  \n",
       "2021-05-09 17:27:57.481         False  \n",
       "2021-05-09 17:27:57.481         False  \n",
       "2021-05-09 17:27:57.481         False  \n",
       "2021-05-09 17:27:57.490          True  \n",
       "\n",
       "[8816600 rows x 5 columns]"
      ]
     },
     "execution_count": 34,
     "metadata": {},
     "output_type": "execute_result"
    }
   ],
   "source": [
    "df"
   ]
  },
  {
   "cell_type": "code",
   "execution_count": 35,
   "metadata": {},
   "outputs": [],
   "source": [
    "def clean_decision_tree_data(df, is_class):\n",
    "    decision_tree_df = pd.DataFrame(df[\"price\"].groupby(pd.Grouper(freq=\"1s\")).last())\n",
    "    decision_tree_df[\"quoteQty\"] = df[\"quoteQty\"].groupby(pd.Grouper(freq=\"1s\")).sum()\n",
    "    \n",
    "    decision_tree_df[f\"percent_price\"] = decision_tree_df[\"price\"].pct_change(skip_look_back)\n",
    "    for n in range(1, n_look_back + 1):\n",
    "        decision_tree_df[f\"percent_price_t-{n * skip_look_back}\"] = decision_tree_df[\"percent_price\"].shift(n * skip_look_back)\n",
    "        decision_tree_df[f\"quoteQty_t-{n * skip_look_back}\"] = decision_tree_df[\"quoteQty\"].shift(n * skip_look_back)\n",
    "        \n",
    "    decision_tree_df[f\"percent_price_{skip_look_forword}\"] = decision_tree_df[\"price\"].pct_change(skip_look_forword)\n",
    "    decision_tree_df[f\"percent_price_t+{skip_look_forword}\"] = decision_tree_df[f\"percent_price_{skip_look_forword}\"].shift(-skip_look_forword)\n",
    "\n",
    "    if is_class:\n",
    "        decision_tree_df[f\"percent_price_t+{skip_look_forword}\"] = decision_tree_df[f\"percent_price_t+{skip_look_forword}\"].apply(lambda v: 1 if v > 0 else 0)\n",
    "        \n",
    "    decision_tree_df = decision_tree_df.drop([\"price\", f\"percent_price_{skip_look_forword}\"], axis=1)\n",
    "    decision_tree_df = decision_tree_df.dropna()\n",
    "    \n",
    "    return decision_tree_df.drop([f\"percent_price_t+{skip_look_forword}\"], axis=1), decision_tree_df[[f\"percent_price_t+{skip_look_forword}\"]]"
   ]
  },
  {
   "cell_type": "code",
   "execution_count": 36,
   "metadata": {
    "scrolled": true
   },
   "outputs": [
    {
     "data": {
      "text/html": [
       "<div>\n",
       "<style scoped>\n",
       "    .dataframe tbody tr th:only-of-type {\n",
       "        vertical-align: middle;\n",
       "    }\n",
       "\n",
       "    .dataframe tbody tr th {\n",
       "        vertical-align: top;\n",
       "    }\n",
       "\n",
       "    .dataframe thead th {\n",
       "        text-align: right;\n",
       "    }\n",
       "</style>\n",
       "<table border=\"1\" class=\"dataframe\">\n",
       "  <thead>\n",
       "    <tr style=\"text-align: right;\">\n",
       "      <th></th>\n",
       "      <th>percent_price_t+10</th>\n",
       "    </tr>\n",
       "    <tr>\n",
       "      <th>time</th>\n",
       "      <th></th>\n",
       "    </tr>\n",
       "  </thead>\n",
       "  <tbody>\n",
       "    <tr>\n",
       "      <th>2021-04-17 11:07:34</th>\n",
       "      <td>1</td>\n",
       "    </tr>\n",
       "    <tr>\n",
       "      <th>2021-04-17 11:07:35</th>\n",
       "      <td>1</td>\n",
       "    </tr>\n",
       "    <tr>\n",
       "      <th>2021-04-17 11:07:36</th>\n",
       "      <td>1</td>\n",
       "    </tr>\n",
       "    <tr>\n",
       "      <th>2021-04-17 11:07:37</th>\n",
       "      <td>1</td>\n",
       "    </tr>\n",
       "    <tr>\n",
       "      <th>2021-04-17 11:07:38</th>\n",
       "      <td>1</td>\n",
       "    </tr>\n",
       "    <tr>\n",
       "      <th>...</th>\n",
       "      <td>...</td>\n",
       "    </tr>\n",
       "    <tr>\n",
       "      <th>2021-04-17 14:34:02</th>\n",
       "      <td>0</td>\n",
       "    </tr>\n",
       "    <tr>\n",
       "      <th>2021-04-17 14:34:03</th>\n",
       "      <td>0</td>\n",
       "    </tr>\n",
       "    <tr>\n",
       "      <th>2021-04-17 14:34:04</th>\n",
       "      <td>0</td>\n",
       "    </tr>\n",
       "    <tr>\n",
       "      <th>2021-04-17 14:34:05</th>\n",
       "      <td>0</td>\n",
       "    </tr>\n",
       "    <tr>\n",
       "      <th>2021-04-17 14:34:06</th>\n",
       "      <td>0</td>\n",
       "    </tr>\n",
       "  </tbody>\n",
       "</table>\n",
       "<p>12393 rows × 1 columns</p>\n",
       "</div>"
      ],
      "text/plain": [
       "                     percent_price_t+10\n",
       "time                                   \n",
       "2021-04-17 11:07:34                   1\n",
       "2021-04-17 11:07:35                   1\n",
       "2021-04-17 11:07:36                   1\n",
       "2021-04-17 11:07:37                   1\n",
       "2021-04-17 11:07:38                   1\n",
       "...                                 ...\n",
       "2021-04-17 14:34:02                   0\n",
       "2021-04-17 14:34:03                   0\n",
       "2021-04-17 14:34:04                   0\n",
       "2021-04-17 14:34:05                   0\n",
       "2021-04-17 14:34:06                   0\n",
       "\n",
       "[12393 rows x 1 columns]"
      ]
     },
     "execution_count": 36,
     "metadata": {},
     "output_type": "execute_result"
    }
   ],
   "source": [
    "train_x_df, train_y_df = clean_decision_tree_data(df[ df[\"id\"] < 300000000], is_class=True)\n",
    "test_x_df, test_y_df = clean_decision_tree_data(df[ df[\"id\"] >= 300000000], is_class=True)\n",
    "# train_x_df[:21]\n",
    "train_y_df"
   ]
  },
  {
   "cell_type": "code",
   "execution_count": 37,
   "metadata": {},
   "outputs": [
    {
     "data": {
      "text/plain": [
       "DecisionTreeClassifier(max_depth=6)"
      ]
     },
     "execution_count": 37,
     "metadata": {},
     "output_type": "execute_result"
    }
   ],
   "source": [
    "model = DecisionTreeClassifier(max_depth=6)\n",
    "model.fit(train_x_df, train_y_df)"
   ]
  },
  {
   "cell_type": "code",
   "execution_count": 39,
   "metadata": {},
   "outputs": [
    {
     "data": {
      "text/plain": [
       "0.5091318949257028"
      ]
     },
     "execution_count": 39,
     "metadata": {},
     "output_type": "execute_result"
    }
   ],
   "source": [
    "predict_list = model.predict(test_x_df)\n",
    "Validator.calculate_class_accuracy(test_y_df[f\"percent_price_t+{skip_look_forword}\"], predict_list)"
   ]
  },
  {
   "cell_type": "code",
   "execution_count": null,
   "metadata": {
    "scrolled": false
   },
   "outputs": [],
   "source": [
    "TreeHelper.export_decision_tree_graph(model, feature_list=test_x_df.columns, output_filename=\"tree.png\")"
   ]
  },
  {
   "cell_type": "code",
   "execution_count": null,
   "metadata": {},
   "outputs": [],
   "source": []
  },
  {
   "cell_type": "code",
   "execution_count": null,
   "metadata": {},
   "outputs": [],
   "source": []
  }
 ],
 "metadata": {
  "kernelspec": {
   "display_name": "binance",
   "language": "python",
   "name": "binance"
  },
  "language_info": {
   "codemirror_mode": {
    "name": "ipython",
    "version": 3
   },
   "file_extension": ".py",
   "mimetype": "text/x-python",
   "name": "python",
   "nbconvert_exporter": "python",
   "pygments_lexer": "ipython3",
   "version": "3.8.5"
  }
 },
 "nbformat": 4,
 "nbformat_minor": 4
}
